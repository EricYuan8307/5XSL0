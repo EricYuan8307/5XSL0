{
 "cells": [
  {
   "cell_type": "markdown",
   "metadata": {},
   "source": [
    "# [5XSL0] Verify Installation<span class=\"tocSkip\"></span>\n",
    "_Based on the verification notebook of the course `Data Analytics for Engineers`_"
   ]
  },
  {
   "cell_type": "markdown",
   "metadata": {},
   "source": [
    "> *Important*: All of your code should be written between the `BEGIN_TODO` and `END_TODO` markers. All code outside of these markers will not be graded. Do not change these markers!"
   ]
  },
  {
   "cell_type": "markdown",
   "metadata": {},
   "source": [
    "#### Exercise 1\n",
    "**Fill in** your _name_, _student identification number_, and the _date_, as strings between single quotes, in the next code cell and run it."
   ]
  },
  {
   "cell_type": "code",
   "execution_count": 1,
   "metadata": {
    "pycharm": {
     "is_executing": true
    }
   },
   "outputs": [
    {
     "data": {
      "text/plain": [
       "('Yuncheng Yuan', '1778307', '2022-11-14')"
      ]
     },
     "execution_count": 1,
     "metadata": {},
     "output_type": "execute_result"
    }
   ],
   "source": [
    "#// BEGIN_TODO [5XSL0_Verify_Installation] Fill in full name, id.nr., and the date (1 point)\n",
    "\n",
    "AUTHOR_NAME = 'Yuncheng Yuan'           # e.g. 'Ludwig von Beethoven'\n",
    "AUTHOR_ID_NR = '1778307'     # e.g. '1234567'\n",
    "AUTHOR_DATE = '2022-11-14'          # when first modified; numbers only, e.g. '2018-02-26'\n",
    "\n",
    "#// END_TODO [5XSL0_Verify_Installation]\n",
    "\n",
    "AUTHOR_NAME, AUTHOR_ID_NR, AUTHOR_DATE"
   ]
  },
  {
   "cell_type": "markdown",
   "metadata": {},
   "source": [
    "#### Exercise 2 \n",
    "Run each of the following code cells, and verify that no error messages appear.\n",
    "\n",
    "If there are errors, ask for help. If not, submit the saved notebook to Canvas."
   ]
  },
  {
   "cell_type": "code",
   "execution_count": 2,
   "metadata": {},
   "outputs": [
    {
     "data": {
      "text/plain": [
       "'2022-11-14 11:05:11.276790'"
      ]
     },
     "execution_count": 2,
     "metadata": {},
     "output_type": "execute_result"
    }
   ],
   "source": [
    "from datetime import datetime\n",
    "str(datetime.now())"
   ]
  },
  {
   "cell_type": "code",
   "execution_count": 3,
   "metadata": {},
   "outputs": [
    {
     "data": {
      "text/plain": [
       "6539083576"
      ]
     },
     "execution_count": 3,
     "metadata": {},
     "output_type": "execute_result"
    }
   ],
   "source": [
    "from random import seed, randint\n",
    "\n",
    "seed(AUTHOR_NAME)\n",
    "randint(1000000000, 9999999999)"
   ]
  },
  {
   "cell_type": "code",
   "execution_count": null,
   "metadata": {},
   "outputs": [],
   "source": []
  },
  {
   "cell_type": "markdown",
   "metadata": {},
   "source": [
    "Find out what OS is being used:"
   ]
  },
  {
   "cell_type": "code",
   "execution_count": 4,
   "metadata": {},
   "outputs": [
    {
     "name": "stdout",
     "output_type": "stream",
     "text": [
      "posix\n",
      "Darwin\n",
      "21.6.0\n"
     ]
    }
   ],
   "source": [
    "import platform\n",
    "\n",
    "print(platform.os.name)\n",
    "print(platform.system())\n",
    "print(platform.release())"
   ]
  },
  {
   "cell_type": "markdown",
   "metadata": {},
   "source": [
    "Verify the version of Python."
   ]
  },
  {
   "cell_type": "code",
   "execution_count": 5,
   "metadata": {},
   "outputs": [
    {
     "name": "stdout",
     "output_type": "stream",
     "text": [
      "Python version: 3.8.13\n"
     ]
    }
   ],
   "source": [
    "import platform\n",
    "\n",
    "print('Python version:', platform.python_version())\n",
    "assert platform.python_version_tuple()[:2] == ('3', '8'), 'Wrong version of Python'"
   ]
  },
  {
   "cell_type": "code",
   "execution_count": 6,
   "metadata": {},
   "outputs": [
    {
     "name": "stdout",
     "output_type": "stream",
     "text": [
      "IPython version:\n",
      " {'commit_hash': 'f8d0e4c79',\n",
      " 'commit_source': 'installation',\n",
      " 'default_encoding': 'utf-8',\n",
      " 'ipython_path': '/opt/anaconda3/envs/Msc5XSL0/lib/python3.8/site-packages/IPython',\n",
      " 'ipython_version': '8.6.0',\n",
      " 'os_name': 'posix',\n",
      " 'platform': 'macOS-10.16-x86_64-i386-64bit',\n",
      " 'sys_executable': '/opt/anaconda3/envs/Msc5XSL0/bin/python',\n",
      " 'sys_platform': 'darwin',\n",
      " 'sys_version': '3.8.13 (default, Oct 19 2022, 17:54:22) \\n[Clang 12.0.0 ]'}\n"
     ]
    }
   ],
   "source": [
    "import IPython\n",
    "print('IPython version:\\n', IPython.sys_info())"
   ]
  },
  {
   "cell_type": "markdown",
   "metadata": {},
   "source": [
    "Verify that some standard libraries can imported."
   ]
  },
  {
   "cell_type": "code",
   "execution_count": 7,
   "metadata": {},
   "outputs": [],
   "source": [
    "import numpy as np\n",
    "%matplotlib inline\n",
    "import matplotlib as mpl\n",
    "import matplotlib.pyplot as plt\n",
    "import sklearn\n",
    "import scipy\n",
    "import tensorflow"
   ]
  },
  {
   "cell_type": "markdown",
   "metadata": {},
   "source": [
    "Show their versions:"
   ]
  },
  {
   "cell_type": "code",
   "execution_count": 8,
   "metadata": {},
   "outputs": [
    {
     "name": "stdout",
     "output_type": "stream",
     "text": [
      "numpy       : version 1.22.3\n",
      "matplotlib  : version 3.5.3\n",
      "scikit-learn: version 1.1.3\n",
      "scipy       : version 1.7.3\n",
      "tensorflow  : version 2.9.1\n"
     ]
    }
   ],
   "source": [
    "print(\"numpy       : version {}\".format(np.__version__))\n",
    "print(\"matplotlib  : version {}\".format(mpl.__version__))\n",
    "print(\"scikit-learn: version {}\".format(sklearn.__version__))\n",
    "print(\"scipy       : version {}\".format(scipy.__version__))\n",
    "print(\"tensorflow  : version {}\".format(tensorflow.__version__))"
   ]
  },
  {
   "cell_type": "markdown",
   "metadata": {},
   "source": [
    "List the versions of Anaconda, Jupyter and IPython:"
   ]
  },
  {
   "cell_type": "code",
   "execution_count": 9,
   "metadata": {},
   "outputs": [
    {
     "name": "stdout",
     "output_type": "stream",
     "text": [
      "# packages in environment at /opt/anaconda3/envs/Msc5XSL0:\n",
      "#\n",
      "# Name                    Version                   Build  Channel\n",
      "# packages in environment at /opt/anaconda3/envs/Msc5XSL0:\n",
      "#\n",
      "# Name                    Version                   Build  Channel\n",
      "jupyter_client            7.3.5            py38hecd8cb5_0  \n",
      "jupyter_core              4.11.2           py38hecd8cb5_0  \n",
      "jupyter_server            1.18.1           py38hecd8cb5_0  \n",
      "jupyterlab                3.4.4            py38hecd8cb5_0  \n",
      "jupyterlab_pygments       0.1.2                      py_0  \n",
      "jupyterlab_server         2.15.2           py38hecd8cb5_0  \n",
      "# packages in environment at /opt/anaconda3/envs/Msc5XSL0:\n",
      "#\n",
      "# Name                    Version                   Build  Channel\n",
      "ipython                   8.6.0            py38hecd8cb5_0  \n",
      "ipython_genutils          0.2.0              pyhd3eb1b0_1  \n"
     ]
    }
   ],
   "source": [
    "!conda list anaconda\n",
    "!conda list jupyter\n",
    "!conda list ipython"
   ]
  },
  {
   "cell_type": "markdown",
   "metadata": {},
   "source": [
    "The following code was taken from http://matplotlib.org/users/pyplot_tutorial.html.\n",
    "It uses NumPy and Matplotlib, and it should show a histogram for ten thousand random samples of a normal distribution with mean of 100 and standard deviation of 15."
   ]
  },
  {
   "cell_type": "code",
   "execution_count": 10,
   "metadata": {},
   "outputs": [
    {
     "data": {
      "image/png": "[encoded data removed]",
      "text/plain": [
       "<Figure size 640x480 with 1 Axes>"
      ]
     },
     "metadata": {},
     "output_type": "display_data"
    }
   ],
   "source": [
    "mu, sigma = 100, 15\n",
    "x = mu + sigma * np.random.randn(10000)\n",
    "\n",
    "# the histogram of the data\n",
    "n, bins, patches = plt.hist(x, 50, density=True, facecolor='g', alpha=0.75)\n",
    "\n",
    "plt.xlabel('Smarts')\n",
    "plt.ylabel('Probability')\n",
    "plt.title('Histogram of IQ')\n",
    "plt.text(60, .025, r'$\\mu=100,\\ \\sigma=15$')\n",
    "plt.axis([40, 160, 0, 0.03])\n",
    "plt.grid(True)\n",
    "plt.show()"
   ]
  },
  {
   "cell_type": "markdown",
   "metadata": {},
   "source": [
    "List all defined names:"
   ]
  },
  {
   "cell_type": "code",
   "execution_count": 11,
   "metadata": {},
   "outputs": [
    {
     "name": "stdout",
     "output_type": "stream",
     "text": [
      "Variable       Type            Data/Info\n",
      "----------------------------------------\n",
      "AUTHOR_DATE    str             2022-11-14\n",
      "AUTHOR_ID_NR   str             1778307\n",
      "AUTHOR_NAME    str             Yuncheng Yuan\n",
      "IPython        module          <module 'IPython' from '/<...>ges/IPython/__init__.py'>\n",
      "bins           ndarray         51: 51 elems, type `float64`, 408 bytes\n",
      "datetime       type            <class 'datetime.datetime'>\n",
      "mpl            module          <module 'matplotlib' from<...>/matplotlib/__init__.py'>\n",
      "mu             int             100\n",
      "n              ndarray         50: 50 elems, type `float64`, 400 bytes\n",
      "np             module          <module 'numpy' from '/op<...>kages/numpy/__init__.py'>\n",
      "patches        BarContainer    <BarContainer object of 50 artists>\n",
      "platform       module          <module 'platform' from '<...>b/python3.8/platform.py'>\n",
      "plt            module          <module 'matplotlib.pyplo<...>es/matplotlib/pyplot.py'>\n",
      "randint        method          <bound method Random.rand<...>bject at 0x7fc474026010>>\n",
      "scipy          module          <module 'scipy' from '/op<...>kages/scipy/__init__.py'>\n",
      "seed           method          <bound method Random.seed<...>bject at 0x7fc474026010>>\n",
      "sigma          int             15\n",
      "sklearn        module          <module 'sklearn' from '/<...>ges/sklearn/__init__.py'>\n",
      "tensorflow     module          <module 'tensorflow' from<...>/tensorflow/__init__.py'>\n",
      "x              ndarray         10000: 10000 elems, type `float64`, 80000 bytes\n"
     ]
    }
   ],
   "source": [
    "%whos"
   ]
  },
  {
   "cell_type": "markdown",
   "metadata": {},
   "source": [
    "---\n",
    "\n",
    "# (End of Notebook)\n",
    "\n",
    "&copy; 2022 - **TU/e** - Eindhoven University of Technology"
   ]
  }
 ],
 "metadata": {
  "anaconda-cloud": {},
  "kernelspec": {
   "display_name": "Python 3 (ipykernel)",
   "language": "python",
   "name": "python3"
  },
  "language_info": {
   "codemirror_mode": {
    "name": "ipython",
    "version": 3
   },
   "file_extension": ".py",
   "mimetype": "text/x-python",
   "name": "python",
   "nbconvert_exporter": "python",
   "pygments_lexer": "ipython3",
   "version": "3.8.13"
  },
  "pycharm": {
   "stem_cell": {
    "cell_type": "raw",
    "metadata": {
     "collapsed": false
    },
    "source": []
   }
  },
  "toc": {
   "base_numbering": 1,
   "nav_menu": {
    "height": "125px",
    "width": "252px"
   },
   "number_sections": false,
   "sideBar": true,
   "skip_h1_title": false,
   "title_cell": "Table of Contents",
   "title_sidebar": "Contents",
   "toc_cell": false,
   "toc_position": {
    "height": "652px",
    "left": "0px",
    "right": "1025px",
    "top": "107px",
    "width": "212px"
   },
   "toc_section_display": "block",
   "toc_window_display": false
  }
 },
 "nbformat": 4,
 "nbformat_minor": 1
}
